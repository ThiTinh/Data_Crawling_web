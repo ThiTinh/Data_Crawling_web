{
 "cells": [
  {
   "cell_type": "code",
   "execution_count": 1,
   "id": "6af5f058",
   "metadata": {},
   "outputs": [],
   "source": [
    "from scrapy.selector import Selector\n",
    "from scrapy.http import HtmlResponse"
   ]
  },
  {
   "cell_type": "code",
   "execution_count": 2,
   "id": "b0bb1415",
   "metadata": {},
   "outputs": [],
   "source": [
    "noidung = '''\n",
    "<p class=\"foo bar-baz\">First</p>\n",
    "<p class=\"foo\">Second</p>\n",
    "<p class=\"bar\">Third</p>\n",
    "<p>Fourth</p>\n",
    "'''\n",
    "response = HtmlResponse(url='',body=noidung, encoding='utf-8')"
   ]
  },
  {
   "cell_type": "code",
   "execution_count": 5,
   "id": "44536f6d",
   "metadata": {},
   "outputs": [
    {
     "data": {
      "text/plain": [
       "['<p class=\"foo bar-baz\">First</p>', '<p class=\"foo\">Second</p>']"
      ]
     },
     "execution_count": 5,
     "metadata": {},
     "output_type": "execute_result"
    }
   ],
   "source": [
    "response.xpath('//p[has-class(\"foo\")]').getall()"
   ]
  },
  {
   "cell_type": "code",
   "execution_count": 6,
   "id": "317f78aa",
   "metadata": {},
   "outputs": [
    {
     "data": {
      "text/plain": [
       "['<p class=\"foo bar-baz\">First</p>']"
      ]
     },
     "execution_count": 6,
     "metadata": {},
     "output_type": "execute_result"
    }
   ],
   "source": [
    "response.xpath('//p[has-class(\"foo\", \"bar-baz\")]').getall()"
   ]
  },
  {
   "cell_type": "code",
   "execution_count": 7,
   "id": "064de908",
   "metadata": {},
   "outputs": [
    {
     "data": {
      "text/plain": [
       "[]"
      ]
     },
     "execution_count": 7,
     "metadata": {},
     "output_type": "execute_result"
    }
   ],
   "source": [
    "response.xpath('//p[has-class(\"foo\", \"bar\")]').getall()"
   ]
  },
  {
   "cell_type": "markdown",
   "id": "0eebd438",
   "metadata": {},
   "source": [
    "### CSS"
   ]
  },
  {
   "cell_type": "code",
   "execution_count": 8,
   "id": "760c1da9",
   "metadata": {},
   "outputs": [
    {
     "data": {
      "text/plain": [
       "['<p class=\"foo bar-baz\">First</p>', '<p class=\"foo\">Second</p>']"
      ]
     },
     "execution_count": 8,
     "metadata": {},
     "output_type": "execute_result"
    }
   ],
   "source": [
    "response.css('p.foo').getall()"
   ]
  },
  {
   "cell_type": "code",
   "execution_count": 9,
   "id": "75944ea0",
   "metadata": {},
   "outputs": [
    {
     "data": {
      "text/plain": [
       "['<p class=\"foo bar-baz\">First</p>']"
      ]
     },
     "execution_count": 9,
     "metadata": {},
     "output_type": "execute_result"
    }
   ],
   "source": [
    "response.css('p.foo.bar-baz').getall()"
   ]
  },
  {
   "cell_type": "code",
   "execution_count": null,
   "id": "0a72ce2c",
   "metadata": {},
   "outputs": [],
   "source": []
  }
 ],
 "metadata": {
  "kernelspec": {
   "display_name": "Python 3",
   "language": "python",
   "name": "python3"
  },
  "language_info": {
   "codemirror_mode": {
    "name": "ipython",
    "version": 3
   },
   "file_extension": ".py",
   "mimetype": "text/x-python",
   "name": "python",
   "nbconvert_exporter": "python",
   "pygments_lexer": "ipython3",
   "version": "3.9.6"
  }
 },
 "nbformat": 4,
 "nbformat_minor": 5
}
