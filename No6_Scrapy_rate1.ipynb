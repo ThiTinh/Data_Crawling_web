{
 "cells": [
  {
   "cell_type": "code",
   "execution_count": 1,
   "id": "f5d73c50",
   "metadata": {},
   "outputs": [],
   "source": [
    "import scrapy\n",
    "from scrapy.crawler import CrawlerProcess\n",
    "from scrapy.selector import Selector"
   ]
  },
  {
   "cell_type": "code",
   "execution_count": 2,
   "id": "8f91212c",
   "metadata": {},
   "outputs": [],
   "source": [
    "class TyGiaVangSpider(scrapy.Spider):\n",
    "    name = \"TyGiaVang\"\n",
    "    start_urls=['https://www.24h.com.vn/gia-vang-hom-nay-c425.html',]\n",
    "    def parse(self, response):\n",
    "        ress = response.css('div.tabBody > table > tbody >tr')\n",
    "        for res in ress:\n",
    "            yield{\"noidung\": res.extract()}"
   ]
  },
  {
   "cell_type": "code",
   "execution_count": 3,
   "id": "bf5e846c",
   "metadata": {},
   "outputs": [
    {
     "name": "stderr",
     "output_type": "stream",
     "text": [
      "2022-11-28 10:02:59 [scrapy.utils.log] INFO: Scrapy 2.7.1 started (bot: scrapybot)\n",
      "2022-11-28 10:02:59 [scrapy.utils.log] INFO: Versions: lxml 4.9.1.0, libxml2 2.9.14, cssselect 1.2.0, parsel 1.7.0, w3lib 2.0.1, Twisted 22.10.0, Python 3.9.6 (v3.9.6:db3ff76da1, Jun 28 2021, 11:49:53) - [Clang 6.0 (clang-600.0.57)], pyOpenSSL 22.1.0 (OpenSSL 3.0.7 1 Nov 2022), cryptography 38.0.3, Platform macOS-10.16-x86_64-i386-64bit\n",
      "2022-11-28 10:02:59 [scrapy.crawler] INFO: Overridden settings:\n",
      "{}\n",
      "2022-11-28 10:02:59 [py.warnings] WARNING: /Library/Frameworks/Python.framework/Versions/3.9/lib/python3.9/site-packages/scrapy/utils/request.py:231: ScrapyDeprecationWarning: '2.6' is a deprecated value for the 'REQUEST_FINGERPRINTER_IMPLEMENTATION' setting.\n",
      "\n",
      "It is also the default value. In other words, it is normal to get this warning if you have not defined a value for the 'REQUEST_FINGERPRINTER_IMPLEMENTATION' setting. This is so for backward compatibility reasons, but it will change in a future version of Scrapy.\n",
      "\n",
      "See the documentation of the 'REQUEST_FINGERPRINTER_IMPLEMENTATION' setting for information on how to handle this deprecation.\n",
      "  return cls(crawler)\n",
      "\n",
      "2022-11-28 10:02:59 [scrapy.utils.log] DEBUG: Using reactor: twisted.internet.selectreactor.SelectReactor\n",
      "2022-11-28 10:02:59 [scrapy.extensions.telnet] INFO: Telnet Password: 812c5efc44747092\n",
      "2022-11-28 10:02:59 [scrapy.middleware] INFO: Enabled extensions:\n",
      "['scrapy.extensions.corestats.CoreStats',\n",
      " 'scrapy.extensions.telnet.TelnetConsole',\n",
      " 'scrapy.extensions.memusage.MemoryUsage',\n",
      " 'scrapy.extensions.logstats.LogStats']\n",
      "2022-11-28 10:02:59 [scrapy.middleware] INFO: Enabled downloader middlewares:\n",
      "['scrapy.downloadermiddlewares.httpauth.HttpAuthMiddleware',\n",
      " 'scrapy.downloadermiddlewares.downloadtimeout.DownloadTimeoutMiddleware',\n",
      " 'scrapy.downloadermiddlewares.defaultheaders.DefaultHeadersMiddleware',\n",
      " 'scrapy.downloadermiddlewares.useragent.UserAgentMiddleware',\n",
      " 'scrapy.downloadermiddlewares.retry.RetryMiddleware',\n",
      " 'scrapy.downloadermiddlewares.redirect.MetaRefreshMiddleware',\n",
      " 'scrapy.downloadermiddlewares.httpcompression.HttpCompressionMiddleware',\n",
      " 'scrapy.downloadermiddlewares.redirect.RedirectMiddleware',\n",
      " 'scrapy.downloadermiddlewares.cookies.CookiesMiddleware',\n",
      " 'scrapy.downloadermiddlewares.httpproxy.HttpProxyMiddleware',\n",
      " 'scrapy.downloadermiddlewares.stats.DownloaderStats']\n",
      "2022-11-28 10:02:59 [scrapy.middleware] INFO: Enabled spider middlewares:\n",
      "['scrapy.spidermiddlewares.httperror.HttpErrorMiddleware',\n",
      " 'scrapy.spidermiddlewares.offsite.OffsiteMiddleware',\n",
      " 'scrapy.spidermiddlewares.referer.RefererMiddleware',\n",
      " 'scrapy.spidermiddlewares.urllength.UrlLengthMiddleware',\n",
      " 'scrapy.spidermiddlewares.depth.DepthMiddleware']\n",
      "2022-11-28 10:02:59 [scrapy.middleware] INFO: Enabled item pipelines:\n",
      "[]\n",
      "2022-11-28 10:02:59 [scrapy.core.engine] INFO: Spider opened\n",
      "2022-11-28 10:02:59 [scrapy.extensions.logstats] INFO: Crawled 0 pages (at 0 pages/min), scraped 0 items (at 0 items/min)\n",
      "2022-11-28 10:02:59 [scrapy.extensions.telnet] INFO: Telnet console listening on 127.0.0.1:6023\n",
      "2022-11-28 10:03:00 [scrapy.core.engine] DEBUG: Crawled (200) <GET https://www.24h.com.vn/gia-vang-hom-nay-c425.html> (referer: None)\n",
      "2022-11-28 10:03:00 [scrapy.core.scraper] DEBUG: Scraped from <200 https://www.24h.com.vn/gia-vang-hom-nay-c425.html>\n",
      "{'noidung': '<tr data-seach=\"doji_hn\" onclick=\"active_gia_vang_theo_ma(\\'doji_hn\\');\" class=\"\">\\r\\n                              <td width=\"213px\" class=\"colorGrey pdL10\">\\r\\n                                  <h2>DOJI HN</h2>\\r\\n                              </td>\\r\\n                              <td width=\"136px\" class=\"colorGrey\"><span class=\"fixW\">66,500</span> \\r\\n                                                                        <img src=\"https://icdn.24h.com.vn/images/2014/ttcb/btn_down2019.png\">\\r\\n                                                                    <span class=\"colorRed\">100</span>\\r\\n                              </td>\\r\\n                              <td width=\"154px\" class=\"colorGrey\">\\r\\n                                  <span class=\"fixW\">67,300</span>\\r\\n                                                                        <img src=\"https://icdn.24h.com.vn/images/2014/ttcb/btn_down2019.png\">\\r\\n                                                                    <span class=\"colorRed\">300</span>\\r\\n                              </td>\\r\\n                              <td width=\"100px\" class=\"colorBlur\">66,600</td>\\r\\n                              <td class=\"colorBlur\">67,600</td>\\r\\n                          </tr>'}\n",
      "2022-11-28 10:03:00 [scrapy.core.scraper] DEBUG: Scraped from <200 https://www.24h.com.vn/gia-vang-hom-nay-c425.html>\n",
      "{'noidung': '<tr data-seach=\"doji_sg\" onclick=\"active_gia_vang_theo_ma(\\'doji_sg\\');\" class=\"\">\\r\\n                              <td width=\"213px\" class=\"colorGrey pdL10\">\\r\\n                                  <h2>DOJI SG</h2>\\r\\n                              </td>\\r\\n                              <td width=\"136px\" class=\"colorGrey\"><span class=\"fixW\">66,400</span> \\r\\n                                                                        <img src=\"https://icdn.24h.com.vn/images/2014/ttcb/btn_down2019.png\">\\r\\n                                                                    <span class=\"colorRed\">200</span>\\r\\n                              </td>\\r\\n                              <td width=\"154px\" class=\"colorGrey\">\\r\\n                                  <span class=\"fixW\">67,300</span>\\r\\n                                                                        <img src=\"https://icdn.24h.com.vn/images/2014/ttcb/btn_down2019.png\">\\r\\n                                                                    <span class=\"colorRed\">300</span>\\r\\n                              </td>\\r\\n                              <td width=\"100px\" class=\"colorBlur\">66,600</td>\\r\\n                              <td class=\"colorBlur\">67,600</td>\\r\\n                          </tr>'}\n",
      "2022-11-28 10:03:00 [scrapy.core.scraper] DEBUG: Scraped from <200 https://www.24h.com.vn/gia-vang-hom-nay-c425.html>\n",
      "{'noidung': '<tr data-seach=\"phu_quy_sjc\" onclick=\"active_gia_vang_theo_ma(\\'phu_quy_sjc\\');\" class=\"\">\\r\\n                              <td width=\"213px\" class=\"colorGrey pdL10\">\\r\\n                                  <h2>Phú Qúy SJC</h2>\\r\\n                              </td>\\r\\n                              <td width=\"136px\" class=\"colorGrey\"><span class=\"fixW\">66,450</span> \\r\\n                                                                        <img src=\"https://icdn.24h.com.vn/images/2014/ttcb/btn_down2019.png\">\\r\\n                                                                    <span class=\"colorRed\">150</span>\\r\\n                              </td>\\r\\n                              <td width=\"154px\" class=\"colorGrey\">\\r\\n                                  <span class=\"fixW\">67,350</span>\\r\\n                                                                        <img src=\"https://icdn.24h.com.vn/images/2014/ttcb/btn_down2019.png\">\\r\\n                                                                    <span class=\"colorRed\">150</span>\\r\\n                              </td>\\r\\n                              <td width=\"100px\" class=\"colorBlur\">66,600</td>\\r\\n                              <td class=\"colorBlur\">67,500</td>\\r\\n                          </tr>'}\n",
      "2022-11-28 10:03:00 [scrapy.core.scraper] DEBUG: Scraped from <200 https://www.24h.com.vn/gia-vang-hom-nay-c425.html>\n",
      "{'noidung': '<tr data-seach=\"viettinbank_gold\" onclick=\"active_gia_vang_theo_ma(\\'viettinbank_gold\\');\" class=\"\">\\r\\n                              <td width=\"213px\" class=\"colorGrey pdL10\">\\r\\n                                  <h2>VIETINBANK GOLD</h2>\\r\\n                              </td>\\r\\n                              <td width=\"136px\" class=\"colorGrey\"><span class=\"fixW\">66,600</span> \\r\\n                                                                        <img src=\"https://icdn.24h.com.vn/images/2014/ttcb/btn_down2019.png\">\\r\\n                                                                    <span class=\"colorRed\">100</span>\\r\\n                              </td>\\r\\n                              <td width=\"154px\" class=\"colorGrey\">\\r\\n                                  <span class=\"fixW\">67,420</span>\\r\\n                                                                        <img src=\"https://icdn.24h.com.vn/images/2014/ttcb/btn_down2019.png\">\\r\\n                                                                    <span class=\"colorRed\">300</span>\\r\\n                              </td>\\r\\n                              <td width=\"100px\" class=\"colorBlur\">66,700</td>\\r\\n                              <td class=\"colorBlur\">67,720</td>\\r\\n                          </tr>'}\n"
     ]
    },
    {
     "name": "stderr",
     "output_type": "stream",
     "text": [
      "2022-11-28 10:03:00 [scrapy.core.scraper] DEBUG: Scraped from <200 https://www.24h.com.vn/gia-vang-hom-nay-c425.html>\n",
      "{'noidung': '<tr data-seach=\"sjc_tp_hcm\" onclick=\"active_gia_vang_theo_ma(\\'sjc_tp_hcm\\');\" class=\"\">\\r\\n                              <td width=\"213px\" class=\"colorGrey pdL10\">\\r\\n                                  <h2>SJC TP HCM</h2>\\r\\n                              </td>\\r\\n                              <td width=\"136px\" class=\"colorGrey\"><span class=\"fixW\">66,600</span> \\r\\n                                                                    <span class=\"colorGreen\"></span>\\r\\n                              </td>\\r\\n                              <td width=\"154px\" class=\"colorGrey\">\\r\\n                                  <span class=\"fixW\">67,400</span>\\r\\n                                                                        <img src=\"https://icdn.24h.com.vn/images/2014/ttcb/btn_down2019.png\">\\r\\n                                                                    <span class=\"colorRed\">200</span>\\r\\n                              </td>\\r\\n                              <td width=\"100px\" class=\"colorBlur\">66,600</td>\\r\\n                              <td class=\"colorBlur\">67,600</td>\\r\\n                          </tr>'}\n",
      "2022-11-28 10:03:00 [scrapy.core.scraper] DEBUG: Scraped from <200 https://www.24h.com.vn/gia-vang-hom-nay-c425.html>\n",
      "{'noidung': '<tr data-seach=\"sjc_hn\" onclick=\"active_gia_vang_theo_ma(\\'sjc_hn\\');\" class=\"actGolTab\">\\r\\n                              <td width=\"213px\" class=\"colorGrey pdL10\">\\r\\n                                  <h2>SJC Hà Nội</h2>\\r\\n                              </td>\\r\\n                              <td width=\"136px\" class=\"colorGrey\"><span class=\"fixW\">66,600</span> \\r\\n                                                                    <span class=\"colorGreen\"></span>\\r\\n                              </td>\\r\\n                              <td width=\"154px\" class=\"colorGrey\">\\r\\n                                  <span class=\"fixW\">67,420</span>\\r\\n                                                                        <img src=\"https://icdn.24h.com.vn/images/2014/ttcb/btn_down2019.png\">\\r\\n                                                                    <span class=\"colorRed\">200</span>\\r\\n                              </td>\\r\\n                              <td width=\"100px\" class=\"colorBlur\">66,600</td>\\r\\n                              <td class=\"colorBlur\">67,620</td>\\r\\n                          </tr>'}\n",
      "2022-11-28 10:03:00 [scrapy.core.scraper] DEBUG: Scraped from <200 https://www.24h.com.vn/gia-vang-hom-nay-c425.html>\n",
      "{'noidung': '<tr data-seach=\"sjc_dn\" onclick=\"active_gia_vang_theo_ma(\\'sjc_dn\\');\" class=\"\">\\r\\n                              <td width=\"213px\" class=\"colorGrey pdL10\">\\r\\n                                  <h2>SJC Đà Nẵng</h2>\\r\\n                              </td>\\r\\n                              <td width=\"136px\" class=\"colorGrey\"><span class=\"fixW\">66,600</span> \\r\\n                                                                    <span class=\"colorGreen\"></span>\\r\\n                              </td>\\r\\n                              <td width=\"154px\" class=\"colorGrey\">\\r\\n                                  <span class=\"fixW\">67,420</span>\\r\\n                                                                        <img src=\"https://icdn.24h.com.vn/images/2014/ttcb/btn_down2019.png\">\\r\\n                                                                    <span class=\"colorRed\">200</span>\\r\\n                              </td>\\r\\n                              <td width=\"100px\" class=\"colorBlur\">66,600</td>\\r\\n                              <td class=\"colorBlur\">67,620</td>\\r\\n                          </tr>'}\n",
      "2022-11-28 10:03:00 [scrapy.core.scraper] DEBUG: Scraped from <200 https://www.24h.com.vn/gia-vang-hom-nay-c425.html>\n",
      "{'noidung': '<tr data-seach=\"pnj_tp_hcml\" onclick=\"active_gia_vang_theo_ma(\\'pnj_tp_hcml\\');\" class=\"\">\\r\\n                              <td width=\"213px\" class=\"colorGrey pdL10\">\\r\\n                                  <h2>PNJ TP.HCM</h2>\\r\\n                              </td>\\r\\n                              <td width=\"136px\" class=\"colorGrey\"><span class=\"fixW\">53,100</span> \\r\\n                                                                    <span class=\"colorGreen\"></span>\\r\\n                              </td>\\r\\n                              <td width=\"154px\" class=\"colorGrey\">\\r\\n                                  <span class=\"fixW\">54,200</span>\\r\\n                                                                    <span class=\"colorGreen\"></span>\\r\\n                              </td>\\r\\n                              <td width=\"100px\" class=\"colorBlur\">53,100</td>\\r\\n                              <td class=\"colorBlur\">54,200</td>\\r\\n                          </tr>'}\n",
      "2022-11-28 10:03:00 [scrapy.core.scraper] DEBUG: Scraped from <200 https://www.24h.com.vn/gia-vang-hom-nay-c425.html>\n",
      "{'noidung': '<tr data-seach=\"\" onclick=\"active_gia_vang_theo_ma(\\'\\');\" class=\"\">\\r\\n                              <td width=\"213px\" class=\"colorGrey pdL10\">\\r\\n                                  <h2>PNJ HN</h2>\\r\\n                              </td>\\r\\n                              <td width=\"136px\" class=\"colorGrey\"><span class=\"fixW\">0</span> \\r\\n                                                                    <span class=\"colorGreen\"></span>\\r\\n                              </td>\\r\\n                              <td width=\"154px\" class=\"colorGrey\">\\r\\n                                  <span class=\"fixW\">53,100</span>\\r\\n                                                                    <span class=\"colorGreen\"></span>\\r\\n                              </td>\\r\\n                              <td width=\"100px\" class=\"colorBlur\">0</td>\\r\\n                              <td class=\"colorBlur\">53,100</td>\\r\\n                          </tr>'}\n",
      "2022-11-28 10:03:00 [scrapy.core.engine] INFO: Closing spider (finished)\n",
      "2022-11-28 10:03:00 [scrapy.statscollectors] INFO: Dumping Scrapy stats:\n",
      "{'downloader/request_bytes': 240,\n",
      " 'downloader/request_count': 1,\n",
      " 'downloader/request_method_count/GET': 1,\n",
      " 'downloader/response_bytes': 111676,\n",
      " 'downloader/response_count': 1,\n",
      " 'downloader/response_status_count/200': 1,\n",
      " 'elapsed_time_seconds': 0.259834,\n",
      " 'finish_reason': 'finished',\n",
      " 'finish_time': datetime.datetime(2022, 11, 28, 3, 3, 0, 182796),\n",
      " 'httpcompression/response_bytes': 599994,\n",
      " 'httpcompression/response_count': 1,\n",
      " 'item_scraped_count': 9,\n",
      " 'log_count/DEBUG': 11,\n",
      " 'log_count/INFO': 10,\n",
      " 'log_count/WARNING': 1,\n",
      " 'memusage/max': 87949312,\n",
      " 'memusage/startup': 87949312,\n",
      " 'response_received_count': 1,\n",
      " 'scheduler/dequeued': 1,\n",
      " 'scheduler/dequeued/memory': 1,\n",
      " 'scheduler/enqueued': 1,\n",
      " 'scheduler/enqueued/memory': 1,\n",
      " 'start_time': datetime.datetime(2022, 11, 28, 3, 2, 59, 922962)}\n",
      "2022-11-28 10:03:00 [scrapy.core.engine] INFO: Spider closed (finished)\n"
     ]
    }
   ],
   "source": [
    "process = CrawlerProcess()\n",
    "process.crawl(TyGiaVangSpider)\n",
    "process.start()"
   ]
  },
  {
   "cell_type": "code",
   "execution_count": null,
   "id": "ec9bd93e",
   "metadata": {},
   "outputs": [],
   "source": []
  }
 ],
 "metadata": {
  "kernelspec": {
   "display_name": "Python 3",
   "language": "python",
   "name": "python3"
  },
  "language_info": {
   "codemirror_mode": {
    "name": "ipython",
    "version": 3
   },
   "file_extension": ".py",
   "mimetype": "text/x-python",
   "name": "python",
   "nbconvert_exporter": "python",
   "pygments_lexer": "ipython3",
   "version": "3.9.6"
  }
 },
 "nbformat": 4,
 "nbformat_minor": 5
}
