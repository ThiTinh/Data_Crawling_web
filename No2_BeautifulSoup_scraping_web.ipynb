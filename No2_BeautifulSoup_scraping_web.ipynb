{
 "cells": [
  {
   "cell_type": "code",
   "execution_count": 1,
   "id": "fb7629ba",
   "metadata": {},
   "outputs": [],
   "source": [
    "from bs4 import BeautifulSoup\n",
    "import requests"
   ]
  },
  {
   "cell_type": "code",
   "execution_count": 2,
   "id": "3ed1fcdf",
   "metadata": {},
   "outputs": [],
   "source": [
    "page_link = 'http://phuong13021982.pythonanywhere.com/mystore/'"
   ]
  },
  {
   "cell_type": "code",
   "execution_count": 3,
   "id": "86cf8427",
   "metadata": {},
   "outputs": [],
   "source": [
    "page_response = requests.get(page_link)"
   ]
  },
  {
   "cell_type": "code",
   "execution_count": 4,
   "id": "27f6ac16",
   "metadata": {},
   "outputs": [
    {
     "data": {
      "text/plain": [
       "<Response [200]>"
      ]
     },
     "execution_count": 4,
     "metadata": {},
     "output_type": "execute_result"
    }
   ],
   "source": [
    "page_response"
   ]
  },
  {
   "cell_type": "code",
   "execution_count": 15,
   "id": "3883cabc",
   "metadata": {},
   "outputs": [],
   "source": [
    "page_content = BeautifulSoup(page_response.content,\"html.parser\")"
   ]
  },
  {
   "cell_type": "code",
   "execution_count": 17,
   "id": "708ae65e",
   "metadata": {
    "scrolled": true
   },
   "outputs": [],
   "source": [
    "product_names = page_content.find_all('h4', attrs={\"class\":\"card-title\"})"
   ]
  },
  {
   "cell_type": "code",
   "execution_count": 18,
   "id": "257ebb69",
   "metadata": {},
   "outputs": [
    {
     "data": {
      "text/plain": [
       "[<h4 class=\"card-title\">Asanzo 50 inch</h4>,\n",
       " <h4 class=\"card-title\">Dell Vostro V3568 XF6C61</h4>,\n",
       " <h4 class=\"card-title\">Macbook Air 2017 MQD32</h4>,\n",
       " <h4 class=\"card-title\">Panasonic 40 inch</h4>,\n",
       " <h4 class=\"card-title\">Samsung 32 inch</h4>]"
      ]
     },
     "execution_count": 18,
     "metadata": {},
     "output_type": "execute_result"
    }
   ],
   "source": [
    "product_names[0:5]"
   ]
  },
  {
   "cell_type": "code",
   "execution_count": 20,
   "id": "c571d219",
   "metadata": {},
   "outputs": [],
   "source": [
    "list_of_names =[]\n",
    "for product in product_names:\n",
    "    list_of_names.append(product.text)"
   ]
  },
  {
   "cell_type": "code",
   "execution_count": 21,
   "id": "02d879cd",
   "metadata": {},
   "outputs": [
    {
     "data": {
      "text/plain": [
       "['Asanzo 50 inch',\n",
       " 'Dell Vostro V3568 XF6C61',\n",
       " 'Macbook Air 2017 MQD32',\n",
       " 'Panasonic 40 inch',\n",
       " 'Samsung 32 inch']"
      ]
     },
     "execution_count": 21,
     "metadata": {},
     "output_type": "execute_result"
    }
   ],
   "source": [
    "list_of_names[0:5]"
   ]
  },
  {
   "cell_type": "code",
   "execution_count": 22,
   "id": "eeff198b",
   "metadata": {},
   "outputs": [],
   "source": [
    "product_images = page_content.find_all('img',attrs={\"class\":\"card-img-top\"})"
   ]
  },
  {
   "cell_type": "code",
   "execution_count": 23,
   "id": "a64be596",
   "metadata": {},
   "outputs": [
    {
     "data": {
      "text/plain": [
       "[<img alt=\"Asanzo 50 inch\" class=\"card-img-top\" src=\"/media/images/asanzo_4k_50_11690000.jpg\"/>,\n",
       " <img alt=\"Dell Vostro V3568 XF6C61\" class=\"card-img-top\" src=\"/media/images/Dell_vostro.jpg\"/>,\n",
       " <img alt=\"Macbook Air 2017 MQD32\" class=\"card-img-top\" src=\"/media/images/MacbooAir.jpg\"/>,\n",
       " <img alt=\"Panasonic 40 inch\" class=\"card-img-top\" src=\"/media/images/panansonic_40_6590000.jpg\"/>,\n",
       " <img alt=\"Samsung 32 inch\" class=\"card-img-top\" src=\"/media/images/samsung_32_5990000.jpg\"/>]"
      ]
     },
     "execution_count": 23,
     "metadata": {},
     "output_type": "execute_result"
    }
   ],
   "source": [
    "product_images[0:5]"
   ]
  },
  {
   "cell_type": "code",
   "execution_count": 24,
   "id": "36d005bb",
   "metadata": {},
   "outputs": [],
   "source": [
    "list_of_images = []\n",
    "for image in product_images:\n",
    "    list_of_images.append(image['src'].split(\"/\")[-1])"
   ]
  },
  {
   "cell_type": "code",
   "execution_count": 25,
   "id": "b9677968",
   "metadata": {},
   "outputs": [
    {
     "data": {
      "text/plain": [
       "['asanzo_4k_50_11690000.jpg',\n",
       " 'Dell_vostro.jpg',\n",
       " 'MacbooAir.jpg',\n",
       " 'panansonic_40_6590000.jpg',\n",
       " 'samsung_32_5990000.jpg']"
      ]
     },
     "execution_count": 25,
     "metadata": {},
     "output_type": "execute_result"
    }
   ],
   "source": [
    "list_of_images[:5]"
   ]
  },
  {
   "cell_type": "code",
   "execution_count": 26,
   "id": "fae62482",
   "metadata": {},
   "outputs": [],
   "source": [
    "product_details=page_content.find_all('p',attrs={'class':'card-text'})"
   ]
  },
  {
   "cell_type": "code",
   "execution_count": 33,
   "id": "738becfb",
   "metadata": {},
   "outputs": [],
   "source": [
    "list_of_descriptions=[]\n",
    "list_of_prices=[]\n",
    "for detail in product_details:\n",
    "    comp = detail.get_text(separator='\\n')\n",
    "    comp=comp.split('\\n')\n",
    "    # 9,000,000 vnđ => 9,000,000 \n",
    "    price=comp[1].split(\" vnđ\")\n",
    "    # description\n",
    "    list_of_descriptions.append(comp[0])\n",
    "    # 9,000,000 => 9000000,0\n",
    "    list_of_prices.append(float(price[0].replace(\",\",\"\")))"
   ]
  },
  {
   "cell_type": "code",
   "execution_count": 34,
   "id": "3ca2681b",
   "metadata": {},
   "outputs": [
    {
     "data": {
      "text/plain": [
       "['Tivi Asanzo 4K màn  hình phẳng 50 inch',\n",
       " 'Chip: Intel Core i5-7200U, RAM: DDR4 4GB (2 khe cắm)',\n",
       " 'Intel Core i5 Dual-core 1.8 GHz, 8GB 1600 MHz LPDDR3',\n",
       " 'Tivi Panasonic màn hình phẳng 40 inch',\n",
       " 'Tivi Samsung thế hệ mới 32 inch']"
      ]
     },
     "execution_count": 34,
     "metadata": {},
     "output_type": "execute_result"
    }
   ],
   "source": [
    "list_of_descriptions[:5]"
   ]
  },
  {
   "cell_type": "code",
   "execution_count": 35,
   "id": "48c2348a",
   "metadata": {},
   "outputs": [
    {
     "data": {
      "text/plain": [
       "[9000000.0, 11999000.0, 18990000.0, 6590000.0, 5999000.0]"
      ]
     },
     "execution_count": 35,
     "metadata": {},
     "output_type": "execute_result"
    }
   ],
   "source": [
    "list_of_prices[:5]"
   ]
  },
  {
   "cell_type": "code",
   "execution_count": 36,
   "id": "29afdede",
   "metadata": {},
   "outputs": [
    {
     "name": "stdout",
     "output_type": "stream",
     "text": [
      "12 12 12 12\n"
     ]
    }
   ],
   "source": [
    "# check number of products\n",
    "print(len(list_of_names), len(list_of_prices), len(list_of_descriptions), len(list_of_images))"
   ]
  },
  {
   "cell_type": "code",
   "execution_count": 37,
   "id": "fb9b6d77",
   "metadata": {},
   "outputs": [],
   "source": [
    "import pandas as pd"
   ]
  },
  {
   "cell_type": "code",
   "execution_count": 38,
   "id": "cebbcc90",
   "metadata": {},
   "outputs": [],
   "source": [
    "dictionary_products = {\"name\": list_of_names,\n",
    "                      \"price\": list_of_prices,\n",
    "                      \"description\": list_of_descriptions,\n",
    "                      \"image\": list_of_images}"
   ]
  },
  {
   "cell_type": "code",
   "execution_count": 39,
   "id": "657236e5",
   "metadata": {},
   "outputs": [
    {
     "data": {
      "text/html": [
       "<div>\n",
       "<style scoped>\n",
       "    .dataframe tbody tr th:only-of-type {\n",
       "        vertical-align: middle;\n",
       "    }\n",
       "\n",
       "    .dataframe tbody tr th {\n",
       "        vertical-align: top;\n",
       "    }\n",
       "\n",
       "    .dataframe thead th {\n",
       "        text-align: right;\n",
       "    }\n",
       "</style>\n",
       "<table border=\"1\" class=\"dataframe\">\n",
       "  <thead>\n",
       "    <tr style=\"text-align: right;\">\n",
       "      <th></th>\n",
       "      <th>name</th>\n",
       "      <th>price</th>\n",
       "      <th>description</th>\n",
       "      <th>image</th>\n",
       "    </tr>\n",
       "  </thead>\n",
       "  <tbody>\n",
       "    <tr>\n",
       "      <th>0</th>\n",
       "      <td>Asanzo 50 inch</td>\n",
       "      <td>9000000.0</td>\n",
       "      <td>Tivi Asanzo 4K màn  hình phẳng 50 inch</td>\n",
       "      <td>asanzo_4k_50_11690000.jpg</td>\n",
       "    </tr>\n",
       "    <tr>\n",
       "      <th>1</th>\n",
       "      <td>Dell Vostro V3568 XF6C61</td>\n",
       "      <td>11999000.0</td>\n",
       "      <td>Chip: Intel Core i5-7200U, RAM: DDR4 4GB (2 kh...</td>\n",
       "      <td>Dell_vostro.jpg</td>\n",
       "    </tr>\n",
       "    <tr>\n",
       "      <th>2</th>\n",
       "      <td>Macbook Air 2017 MQD32</td>\n",
       "      <td>18990000.0</td>\n",
       "      <td>Intel Core i5 Dual-core 1.8 GHz, 8GB 1600 MHz ...</td>\n",
       "      <td>MacbooAir.jpg</td>\n",
       "    </tr>\n",
       "    <tr>\n",
       "      <th>3</th>\n",
       "      <td>Panasonic 40 inch</td>\n",
       "      <td>6590000.0</td>\n",
       "      <td>Tivi Panasonic màn hình phẳng 40 inch</td>\n",
       "      <td>panansonic_40_6590000.jpg</td>\n",
       "    </tr>\n",
       "    <tr>\n",
       "      <th>4</th>\n",
       "      <td>Samsung 32 inch</td>\n",
       "      <td>5999000.0</td>\n",
       "      <td>Tivi Samsung thế hệ mới 32 inch</td>\n",
       "      <td>samsung_32_5990000.jpg</td>\n",
       "    </tr>\n",
       "  </tbody>\n",
       "</table>\n",
       "</div>"
      ],
      "text/plain": [
       "                       name       price  \\\n",
       "0            Asanzo 50 inch   9000000.0   \n",
       "1  Dell Vostro V3568 XF6C61  11999000.0   \n",
       "2    Macbook Air 2017 MQD32  18990000.0   \n",
       "3         Panasonic 40 inch   6590000.0   \n",
       "4           Samsung 32 inch   5999000.0   \n",
       "\n",
       "                                         description  \\\n",
       "0             Tivi Asanzo 4K màn  hình phẳng 50 inch   \n",
       "1  Chip: Intel Core i5-7200U, RAM: DDR4 4GB (2 kh...   \n",
       "2  Intel Core i5 Dual-core 1.8 GHz, 8GB 1600 MHz ...   \n",
       "3              Tivi Panasonic màn hình phẳng 40 inch   \n",
       "4                    Tivi Samsung thế hệ mới 32 inch   \n",
       "\n",
       "                       image  \n",
       "0  asanzo_4k_50_11690000.jpg  \n",
       "1            Dell_vostro.jpg  \n",
       "2              MacbooAir.jpg  \n",
       "3  panansonic_40_6590000.jpg  \n",
       "4     samsung_32_5990000.jpg  "
      ]
     },
     "execution_count": 39,
     "metadata": {},
     "output_type": "execute_result"
    }
   ],
   "source": [
    "df=pd.DataFrame(dictionary_products)\n",
    "df.head()"
   ]
  },
  {
   "cell_type": "code",
   "execution_count": null,
   "id": "4a7530bf",
   "metadata": {},
   "outputs": [],
   "source": []
  }
 ],
 "metadata": {
  "kernelspec": {
   "display_name": "Python 3",
   "language": "python",
   "name": "python3"
  },
  "language_info": {
   "codemirror_mode": {
    "name": "ipython",
    "version": 3
   },
   "file_extension": ".py",
   "mimetype": "text/x-python",
   "name": "python",
   "nbconvert_exporter": "python",
   "pygments_lexer": "ipython3",
   "version": "3.9.6"
  }
 },
 "nbformat": 4,
 "nbformat_minor": 5
}
