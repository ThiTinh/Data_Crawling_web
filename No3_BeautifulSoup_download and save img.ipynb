{
 "cells": [
  {
   "cell_type": "code",
   "execution_count": 1,
   "id": "ed2169bc",
   "metadata": {},
   "outputs": [],
   "source": [
    "import re\n",
    "import requests\n",
    "from bs4 import BeautifulSoup"
   ]
  },
  {
   "cell_type": "code",
   "execution_count": 2,
   "id": "85f7e723",
   "metadata": {},
   "outputs": [],
   "source": [
    "site = \"http://phuong13021982.pythonanywhere.com\"\n",
    "response = requests.get(site)\n",
    "soup = BeautifulSoup(response.text, \"html.parser\")"
   ]
  },
  {
   "cell_type": "code",
   "execution_count": 3,
   "id": "10108b57",
   "metadata": {},
   "outputs": [],
   "source": [
    "img_tags = soup.find_all('img')"
   ]
  },
  {
   "cell_type": "code",
   "execution_count": 4,
   "id": "e4b74cfc",
   "metadata": {},
   "outputs": [],
   "source": [
    "urls = [img['src'] for img in img_tags]"
   ]
  },
  {
   "cell_type": "code",
   "execution_count": 6,
   "id": "b961b5b8",
   "metadata": {},
   "outputs": [
    {
     "name": "stdout",
     "output_type": "stream",
     "text": [
      "/static/images/card.png\n",
      "http://phuong13021982.pythonanywhere.com/static/images/card.png\n",
      "/media/images/asanzo_4k_50_11690000.jpg\n",
      "http://phuong13021982.pythonanywhere.com/media/images/asanzo_4k_50_11690000.jpg\n",
      "/media/images/Dell_vostro.jpg\n",
      "http://phuong13021982.pythonanywhere.com/media/images/Dell_vostro.jpg\n",
      "/media/images/MacbooAir.jpg\n",
      "http://phuong13021982.pythonanywhere.com/media/images/MacbooAir.jpg\n",
      "/media/images/panansonic_40_6590000.jpg\n",
      "http://phuong13021982.pythonanywhere.com/media/images/panansonic_40_6590000.jpg\n",
      "/media/images/samsung_32_5990000.jpg\n",
      "http://phuong13021982.pythonanywhere.com/media/images/samsung_32_5990000.jpg\n",
      "/media/images/SamsungPrime.jpg\n",
      "http://phuong13021982.pythonanywhere.com/media/images/SamsungPrime.jpg\n",
      "/media/images/sharp_45_7490000.jpg\n",
      "http://phuong13021982.pythonanywhere.com/media/images/sharp_45_7490000.jpg\n",
      "/media/images/sony_48_11599000.png\n",
      "http://phuong13021982.pythonanywhere.com/media/images/sony_48_11599000.png\n",
      "/media/images/sony_55_20590000.jpg\n",
      "http://phuong13021982.pythonanywhere.com/media/images/sony_55_20590000.jpg\n",
      "/media/images/tcl_55_9900000.jpg\n",
      "http://phuong13021982.pythonanywhere.com/media/images/tcl_55_9900000.jpg\n",
      "/media/images/toshiba32_4590000.jpg\n",
      "http://phuong13021982.pythonanywhere.com/media/images/toshiba32_4590000.jpg\n",
      "/media/images/iPad_Samsung_Wifi.jpg\n",
      "http://phuong13021982.pythonanywhere.com/media/images/iPad_Samsung_Wifi.jpg\n"
     ]
    }
   ],
   "source": [
    "for url in urls:\n",
    "    print(url)\n",
    "    filename = re.search(r'/([\\w_-]+[.](jpg|gif|png))$', url)\n",
    "    if filename:\n",
    "        with open(\"images\"+filename.group(0), 'wb') as f:\n",
    "            if 'http' not in url:                \n",
    "                url = '{}{}'.format(site, url)           \n",
    "                print(url)   \n",
    "            response = requests.get(url)\n",
    "            f.write(response.content)"
   ]
  },
  {
   "cell_type": "code",
   "execution_count": null,
   "id": "081acb7d",
   "metadata": {},
   "outputs": [],
   "source": []
  }
 ],
 "metadata": {
  "kernelspec": {
   "display_name": "Python 3",
   "language": "python",
   "name": "python3"
  },
  "language_info": {
   "codemirror_mode": {
    "name": "ipython",
    "version": 3
   },
   "file_extension": ".py",
   "mimetype": "text/x-python",
   "name": "python",
   "nbconvert_exporter": "python",
   "pygments_lexer": "ipython3",
   "version": "3.9.6"
  }
 },
 "nbformat": 4,
 "nbformat_minor": 5
}
