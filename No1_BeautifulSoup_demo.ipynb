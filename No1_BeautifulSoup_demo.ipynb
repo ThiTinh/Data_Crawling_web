{
 "cells": [
  {
   "cell_type": "code",
   "execution_count": 1,
   "id": "6abd4515",
   "metadata": {},
   "outputs": [],
   "source": [
    "from bs4 import BeautifulSoup\n",
    "import requests"
   ]
  },
  {
   "cell_type": "code",
   "execution_count": 2,
   "id": "2d4e7d75",
   "metadata": {},
   "outputs": [],
   "source": [
    "content = '''<html>\n",
    "<head><title>Data Science Certificate</title></head>\n",
    "<body>\n",
    "    <p class=\"title\"><b>List of courses </b></p>\n",
    "    <p class=\"course\">There were 8 courses:\n",
    "    <a href=\"http://example.com/fundamentals\" class=\"sub_course\" id=\"link1\">Fundamentals of Python</a>,\n",
    "    <a href=\"http://example.com/pythonfor\" class=\"sub_course\" id=\"link2\">Python for DS, ML, DV</a> and\n",
    "    <a href=\"http://example.com/mathsandstats\" class=\"sub_course\" id=\"link3\">Maths and Statistics</a>;\n",
    "    and ...</p>\n",
    "    <div class=\"info\" name =\"Read more\">Read more...</div>\n",
    "</body>\n",
    "</html>\n",
    "'''"
   ]
  },
  {
   "cell_type": "code",
   "execution_count": 3,
   "id": "f1adc630",
   "metadata": {},
   "outputs": [],
   "source": [
    "page_content= BeautifulSoup(content,\"html.parser\")"
   ]
  },
  {
   "cell_type": "code",
   "execution_count": 4,
   "id": "da718ddc",
   "metadata": {},
   "outputs": [
    {
     "data": {
      "text/plain": [
       "<html>\n",
       "<head><title>Data Science Certificate</title></head>\n",
       "<body>\n",
       "<p class=\"title\"><b>List of courses </b></p>\n",
       "<p class=\"course\">There were 8 courses:\n",
       "    <a class=\"sub_course\" href=\"http://example.com/fundamentals\" id=\"link1\">Fundamentals of Python</a>,\n",
       "    <a class=\"sub_course\" href=\"http://example.com/pythonfor\" id=\"link2\">Python for DS, ML, DV</a> and\n",
       "    <a class=\"sub_course\" href=\"http://example.com/mathsandstats\" id=\"link3\">Maths and Statistics</a>;\n",
       "    and ...</p>\n",
       "<div class=\"info\" name=\"Read more\">Read more...</div>\n",
       "</body>\n",
       "</html>"
      ]
     },
     "execution_count": 4,
     "metadata": {},
     "output_type": "execute_result"
    }
   ],
   "source": [
    "page_content"
   ]
  },
  {
   "cell_type": "code",
   "execution_count": 5,
   "id": "10c68c9f",
   "metadata": {},
   "outputs": [
    {
     "data": {
      "text/plain": [
       "<head><title>Data Science Certificate</title></head>"
      ]
     },
     "execution_count": 5,
     "metadata": {},
     "output_type": "execute_result"
    }
   ],
   "source": [
    "page_content.head"
   ]
  },
  {
   "cell_type": "code",
   "execution_count": 6,
   "id": "c06e81fb",
   "metadata": {},
   "outputs": [
    {
     "data": {
      "text/plain": [
       "<title>Data Science Certificate</title>"
      ]
     },
     "execution_count": 6,
     "metadata": {},
     "output_type": "execute_result"
    }
   ],
   "source": [
    "page_content.title"
   ]
  },
  {
   "cell_type": "code",
   "execution_count": 7,
   "id": "572acaab",
   "metadata": {},
   "outputs": [
    {
     "data": {
      "text/plain": [
       "'Data Science Certificate'"
      ]
     },
     "execution_count": 7,
     "metadata": {},
     "output_type": "execute_result"
    }
   ],
   "source": [
    "page_content.title.text"
   ]
  },
  {
   "cell_type": "code",
   "execution_count": 8,
   "id": "17ed1369",
   "metadata": {},
   "outputs": [
    {
     "data": {
      "text/plain": [
       "<a class=\"sub_course\" href=\"http://example.com/fundamentals\" id=\"link1\">Fundamentals of Python</a>"
      ]
     },
     "execution_count": 8,
     "metadata": {},
     "output_type": "execute_result"
    }
   ],
   "source": [
    "page_content.a"
   ]
  },
  {
   "cell_type": "code",
   "execution_count": 9,
   "id": "1ae08b48",
   "metadata": {},
   "outputs": [],
   "source": [
    "links = page_content.find_all('a')"
   ]
  },
  {
   "cell_type": "code",
   "execution_count": 10,
   "id": "3781fecf",
   "metadata": {},
   "outputs": [
    {
     "data": {
      "text/plain": [
       "[<a class=\"sub_course\" href=\"http://example.com/fundamentals\" id=\"link1\">Fundamentals of Python</a>,\n",
       " <a class=\"sub_course\" href=\"http://example.com/pythonfor\" id=\"link2\">Python for DS, ML, DV</a>,\n",
       " <a class=\"sub_course\" href=\"http://example.com/mathsandstats\" id=\"link3\">Maths and Statistics</a>]"
      ]
     },
     "execution_count": 10,
     "metadata": {},
     "output_type": "execute_result"
    }
   ],
   "source": [
    "links"
   ]
  },
  {
   "cell_type": "code",
   "execution_count": 11,
   "id": "611f43eb",
   "metadata": {},
   "outputs": [
    {
     "name": "stdout",
     "output_type": "stream",
     "text": [
      "http://example.com/fundamentals\n",
      "http://example.com/pythonfor\n",
      "http://example.com/mathsandstats\n"
     ]
    }
   ],
   "source": [
    "for link in links:\n",
    "    print(link['href'])"
   ]
  },
  {
   "cell_type": "code",
   "execution_count": 12,
   "id": "fcc72490",
   "metadata": {},
   "outputs": [
    {
     "data": {
      "text/plain": [
       "'List of courses '"
      ]
     },
     "execution_count": 12,
     "metadata": {},
     "output_type": "execute_result"
    }
   ],
   "source": [
    "page_content.find('p',attrs={\"class\":\"title\"}).text"
   ]
  },
  {
   "cell_type": "code",
   "execution_count": null,
   "id": "13416acb",
   "metadata": {},
   "outputs": [],
   "source": []
  }
 ],
 "metadata": {
  "kernelspec": {
   "display_name": "Python 3",
   "language": "python",
   "name": "python3"
  },
  "language_info": {
   "codemirror_mode": {
    "name": "ipython",
    "version": 3
   },
   "file_extension": ".py",
   "mimetype": "text/x-python",
   "name": "python",
   "nbconvert_exporter": "python",
   "pygments_lexer": "ipython3",
   "version": "3.9.6"
  }
 },
 "nbformat": 4,
 "nbformat_minor": 5
}
